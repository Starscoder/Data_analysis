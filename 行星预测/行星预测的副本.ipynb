{
 "cells": [
  {
   "cell_type": "code",
   "execution_count": null,
   "metadata": {},
   "outputs": [],
   "source": [
    "#包版本\n",
    "import sys #access to system parameters https://docs.python.org/3/library/sys.html\n",
    "print(\"Python version: {}\". format(sys.version))\n",
    "\n",
    "import pandas as pd #collection of functions for data processing and analysis modeled after R dataframes with SQL like features\n",
    "print(\"pandas version: {}\". format(pd.__version__))\n",
    "\n",
    "import matplotlib #collection of functions for scientific and publication-ready visualization\n",
    "print(\"matplotlib version: {}\". format(matplotlib.__version__))\n",
    "\n",
    "import numpy as np #foundational package for scientific computing\n",
    "print(\"NumPy version: {}\". format(np.__version__))\n",
    "\n",
    "import scipy as sp #collection of functions for scientific computing and advance mathematics\n",
    "print(\"SciPy version: {}\". format(sp.__version__)) \n",
    "\n",
    "import IPython\n",
    "from IPython import display #pretty printing of dataframes in Jupyter notebook\n",
    "print(\"IPython version: {}\". format(IPython.__version__)) \n",
    "\n",
    "import sklearn #collection of machine learning algorithms\n",
    "print(\"scikit-learn version: {}\". format(sklearn.__version__))\n",
    "from sklearn import model_selection\n",
    "\n",
    "data_vali = pd.read_csv('model.csv',\n",
    "                       error_bad_lines=False,\n",
    "                       engine='python',\n",
    "                       encoding='gb2312')\n",
    "data_vali = pd.DataFrame(data_vali)\n",
    "datav_x = data_vali['中奖人数']\n",
    "datav_y = data_vali['开奖星球']\n",
    "\n",
    "datav_y.replace([u\"金星\",u\"木星\",u\"水星\",\n",
    "                 u\"火星\",u\"土星\",u\"天王星\",u\"海王星\",\n",
    "                u\"开普勒\"] \n",
    "                , [1,2,3,4,5,6,7,8] , inplace=True)\n",
    "datav_y=datav_y.astype(int)\n",
    "\n",
    "clf = ensemble.BaggingClassifier()\n",
    "clf_cv = model_selection.cross_validate(clf, datav_x, datav_y, cv  = cv_split,return_train_score=True)\n",
    "\n",
    "clf.fit(datav_x.values.reshape(-1,1), datav_y)\n",
    "print(\" Training w/bin score mean: {:.2f}\". format(clf_cv['train_score'].mean()*100)) \n",
    "print(\" Test w/bin score mean: {:.2f}\". format(clf_cv['test_score'].mean()*100))\n",
    "\n",
    "data_pre = pd.read_csv('data.csv',\n",
    "                       error_bad_lines=False,\n",
    "                       engine='python',\n",
    "                       encoding='gb2312')\n",
    "data_pre = pd.DataFrame(data_pre)\n",
    "datap_x = data_pre['中奖人数']\n",
    "\n",
    "content=clf.predict_proba(datap_x.values.reshape(-1,1))\n",
    "\n",
    "# print(content)\n",
    "content =  np.array(content)\n",
    "content = np.argsort(-content) # 逆序输出\n",
    "y_raw = content[:,:3]\n",
    "# print (np.argsort(-content)) # 逆序输出\n",
    "y_raw = pd.DataFrame(y_raw)\n",
    "y_raw.replace( [1,2,3,4,5,6,7,8],\n",
    "               [u\"金星\",u\"木星\",u\"水星\",\n",
    "                 u\"火星\",u\"土星\",u\"天王星\",u\"海王星\",\n",
    "                u\"开普勒\"],inplace=True)\n",
    "print(\"前十个变量的参考预测为：{}\".format(y_raw))\n",
    "\n",
    "#预测新的数据\n",
    "submit = y_raw\n",
    "submit.to_csv(\"参考预测结果.csv\", index=True)\n",
    "submit.replace( [1,2,3,4,5,6,7,8],\n",
    "               [u\"金星\",u\"木星\",u\"水星\",\n",
    "                 u\"火星\",u\"土星\",u\"天王星\",u\"海王星\",\n",
    "                u\"开普勒\"],inplace=True)\n"
   ]
  }
 ],
 "metadata": {
  "kernelspec": {
   "display_name": "Python 3",
   "language": "python",
   "name": "python3"
  },
  "language_info": {
   "codemirror_mode": {
    "name": "ipython",
    "version": 3
   },
   "file_extension": ".py",
   "mimetype": "text/x-python",
   "name": "python",
   "nbconvert_exporter": "python",
   "pygments_lexer": "ipython3",
   "version": "3.7.1"
  },
  "toc": {
   "base_numbering": 1,
   "nav_menu": {},
   "number_sections": true,
   "sideBar": true,
   "skip_h1_title": false,
   "title_cell": "Table of Contents",
   "title_sidebar": "Contents",
   "toc_cell": false,
   "toc_position": {},
   "toc_section_display": true,
   "toc_window_display": false
  },
  "varInspector": {
   "cols": {
    "lenName": 16,
    "lenType": 16,
    "lenVar": 40
   },
   "kernels_config": {
    "python": {
     "delete_cmd_postfix": "",
     "delete_cmd_prefix": "del ",
     "library": "var_list.py",
     "varRefreshCmd": "print(var_dic_list())"
    },
    "r": {
     "delete_cmd_postfix": ") ",
     "delete_cmd_prefix": "rm(",
     "library": "var_list.r",
     "varRefreshCmd": "cat(var_dic_list()) "
    }
   },
   "types_to_exclude": [
    "module",
    "function",
    "builtin_function_or_method",
    "instance",
    "_Feature"
   ],
   "window_display": false
  }
 },
 "nbformat": 4,
 "nbformat_minor": 2
}
